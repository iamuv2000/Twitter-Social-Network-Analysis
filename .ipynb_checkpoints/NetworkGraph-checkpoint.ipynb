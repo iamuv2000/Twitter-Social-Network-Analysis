{
 "cells": [
  {
   "cell_type": "code",
   "execution_count": 1,
   "metadata": {},
   "outputs": [],
   "source": [
    "import tweepy \n",
    "import json\n",
    "import pandas as pd\n",
    "import numpy as np\n",
    "from scipy import stats\n",
    "from operator import itemgetter\n",
    "import re\n",
    "import matplotlib.pyplot as plt\n",
    "import seaborn as sns\n",
    "import networkx as nx\n",
    "graph = nx.DiGraph()\n",
    "\n",
    "\n",
    "\n",
    "import CREDENTIALS\n",
    "import sys\n",
    "sys.path.append(\"./SentimentAnalysis.ipynb\")\n",
    "from SentimentAnalysis import TwitterClient \n",
    "from SentimentAnalysis import TwitterAuthenticator\n",
    "from SentimentAnalysis import TwitterStreamer\n",
    "from SentimentAnalysis import TwitterListener\n",
    "from SentimentAnalysis import TweetAnalyser"
   ]
  },
  {
   "cell_type": "code",
   "execution_count": 24,
   "metadata": {},
   "outputs": [
    {
     "name": "stdout",
     "output_type": "stream",
     "text": [
      "                                              tweets                   id  \\\n",
      "0  RT @imravikumars: In this new world of work, t...  1257117463696814080   \n",
      "1  Organizations need a culture of #digitallearni...  1256546506720653312   \n",
      "2  Remote collaboration at scale while ensuring s...  1256214409644572673   \n",
      "3  In these unprecedented times, retailers are us...  1256184176639967235   \n",
      "4  The #hybrid model of working will come to be t...  1255867126780493824   \n",
      "\n",
      "   retweets                date          source  likes  \n",
      "0         7 2020-05-04 01:18:54  Hootsuite Inc.      0  \n",
      "1         5 2020-05-02 11:30:07  Hootsuite Inc.     33  \n",
      "2         5 2020-05-01 13:30:29  Hootsuite Inc.     32  \n",
      "3         5 2020-05-01 11:30:21  Hootsuite Inc.     29  \n",
      "4         7 2020-04-30 14:30:30  Hootsuite Inc.     35  \n"
     ]
    }
   ],
   "source": [
    "twitter_client = TwitterClient()\n",
    "tweet_analyser = TweetAnalyser()\n",
    "api = twitter_client.get_twitter_client_api()\n",
    "tweets = api.user_timeline(screen_name=\"Infosys\", count=20)\n",
    "# print(dir(tweets[0]))\n",
    "df = tweet_analyser.tweets_to_data_frame(tweets)\n",
    "print(df.head())"
   ]
  },
  {
   "cell_type": "code",
   "execution_count": null,
   "metadata": {},
   "outputs": [],
   "source": []
  },
  {
   "cell_type": "code",
   "execution_count": null,
   "metadata": {},
   "outputs": [],
   "source": []
  },
  {
   "cell_type": "code",
   "execution_count": null,
   "metadata": {},
   "outputs": [],
   "source": []
  },
  {
   "cell_type": "code",
   "execution_count": null,
   "metadata": {},
   "outputs": [],
   "source": [
    "query_list = [\"infosys\"]\n",
    "while len(query_list)!=0:\n",
    "  query = query_list.pop(0)\n",
    "  tweets = get_tweets(query)\n",
    "  tweets_data = tweet_data(tweets)\n",
    "  tweets_final = set_DataFrame(tweets_data)\n",
    "  print(query_list)\n",
    "  for index, tweet in tweets_final.iterrows():\n",
    "      user, interactions = get_interactions(tweet)\n",
    "      user_id, user_name = user\n",
    "      tweet_id = tweet[\"id\"]\n",
    "      graph.add_node(user_id)\n",
    "      labels[user_id] = user_name\n",
    "      for interaction in interactions:\n",
    "          int_id, int_name = interaction\n",
    "          graph.add_node(int_id)\n",
    "          labels[int_id] = int_name\n",
    "          graph.add_edge(user_id, int_id)\n",
    "          if tweet[\"followers_count\"]>10000 and int_name not in query_list:\n",
    "            query_list.append(int_name)\n",
    "          "
   ]
  }
 ],
 "metadata": {
  "kernelspec": {
   "display_name": "Python 3",
   "language": "python",
   "name": "python3"
  },
  "language_info": {
   "codemirror_mode": {
    "name": "ipython",
    "version": 3
   },
   "file_extension": ".py",
   "mimetype": "text/x-python",
   "name": "python",
   "nbconvert_exporter": "python",
   "pygments_lexer": "ipython3",
   "version": "3.6.9"
  }
 },
 "nbformat": 4,
 "nbformat_minor": 4
}
