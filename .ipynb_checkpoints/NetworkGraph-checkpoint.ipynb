{
 "cells": [
  {
   "cell_type": "code",
   "execution_count": 64,
   "metadata": {},
   "outputs": [],
   "source": [
    "import tweepy \n",
    "import json\n",
    "import pandas as pd\n",
    "import numpy as np\n",
    "from scipy import stats\n",
    "from operator import itemgetter\n",
    "import re\n",
    "import matplotlib.pyplot as plt\n",
    "import seaborn as sns\n",
    "import networkx as nx\n",
    "graph = nx.Graph()\n",
    "\n",
    "\n",
    "\n",
    "import CREDENTIALS\n",
    "import sys\n",
    "sys.path.append(\"./SentimentAnalysis.py\")\n",
    "from SentimentAnalysis import TwitterClient \n",
    "from SentimentAnalysis import TwitterAuthenticator\n",
    "from SentimentAnalysis import TwitterStreamer\n",
    "from SentimentAnalysis import TwitterListener\n",
    "from SentimentAnalysis import TweetAnalyser"
   ]
  },
  {
   "cell_type": "code",
   "execution_count": 67,
   "metadata": {},
   "outputs": [],
   "source": [
    "twitter_client = TwitterClient()\n",
    "tweet_analyser = TweetAnalyser()\n",
    "api = twitter_client.get_twitter_client_api()\n",
    "graph.add_node(\"CNN\")"
   ]
  },
  {
   "cell_type": "markdown",
   "metadata": {},
   "source": [
    "# ENTER THE DETAILS"
   ]
  },
  {
   "cell_type": "code",
   "execution_count": 68,
   "metadata": {},
   "outputs": [],
   "source": [
    "COMPANY = \"CNN\"\n",
    "NO_OF_TWEETS = 5\n",
    "\n",
    "tweets = api.user_timeline(screen_name=COMPANY, count=NO_OF_TWEETS)\n",
    "\n",
    "#tier 1 twitter accounts\n",
    "tier1 = []\n",
    "#tier 2 twitter accounts\n",
    "tier2 = []\n",
    "\n",
    "retweetsList = []"
   ]
  },
  {
   "cell_type": "code",
   "execution_count": 39,
   "metadata": {},
   "outputs": [],
   "source": [
    "def analyseRetweets():\n",
    "    \n",
    "    "
   ]
  },
  {
   "cell_type": "code",
   "execution_count": null,
   "metadata": {},
   "outputs": [],
   "source": []
  },
  {
   "cell_type": "code",
   "execution_count": 63,
   "metadata": {},
   "outputs": [
    {
     "name": "stdout",
     "output_type": "stream",
     "text": [
      "retweet_count  12\n",
      "screen_name  CNN\n"
     ]
    }
   ],
   "source": [
    "for tweet in tweets:\n",
    "    print(\"retweet_count \",tweet.retweet_count)\n",
    "    print(\"screen_name \", tweet.user.screen_name)\n",
    "#     print(\"Followers\", tweet.user.followers_count)"
   ]
  },
  {
   "cell_type": "code",
   "execution_count": 69,
   "metadata": {},
   "outputs": [
    {
     "name": "stdout",
     "output_type": "stream",
     "text": [
      "24\n",
      "37\n",
      "52\n",
      "91\n",
      "38\n"
     ]
    }
   ],
   "source": [
    "for tweet in tweets:\n",
    "    retweets = api.retweets(id=tweet.id, count=100)\n",
    "    print(len(retweets))\n",
    "    for retweet in retweets:\n",
    "        retweetsList.append([retweet.user.screen_name, retweet.user.followers_count])\n",
    "        \n",
    "        \n",
    "        \n",
    "        \n",
    "        \n",
    "        \n",
    "#         print(retweet.user.screen_name, retweet.user.followers_count)\n",
    "#     print(dir(retweets[0].user))"
   ]
  },
  {
   "cell_type": "markdown",
   "metadata": {},
   "source": [
    "dir(tweet.user)\n",
    "\n",
    "\n",
    "['__class__', '__delattr__', '__dict__', '__dir__', '__doc__', '__eq__', '__format__', '__ge__', '__getattribute__', '__getstate__', '__gt__', '__hash__', '__init__', '__init_subclass__', '__le__', '__lt__', '__module__', '__ne__', '__new__', '__reduce__', '__reduce_ex__', '__repr__', '__setattr__', '__sizeof__', '__str__', '__subclasshook__', '__weakref__', '_api', '_json', 'contributors_enabled', 'created_at', 'default_profile', 'default_profile_image', 'description', 'entities', 'favourites_count', 'follow', 'follow_request_sent', 'followers', 'followers_count', 'followers_ids', 'following', 'friends', 'friends_count', 'geo_enabled', 'has_extended_profile', 'id', 'id_str', 'is_translation_enabled', 'is_translator', 'lang', 'listed_count', 'lists', 'lists_memberships', 'lists_subscriptions', 'location', 'name', 'notifications', 'parse', 'parse_list', 'profile_background_color', 'profile_background_image_url', 'profile_background_image_url_https', 'profile_background_tile', 'profile_banner_url', 'profile_image_url', 'profile_image_url_https', 'profile_link_color', 'profile_sidebar_border_color', 'profile_sidebar_fill_color', 'profile_text_color', 'profile_use_background_image', 'protected', 'screen_name', 'statuses_count', 'time_zone', 'timeline', 'translator_type', 'unfollow', 'url', 'utc_offset', 'verified']"
   ]
  },
  {
   "cell_type": "code",
   "execution_count": null,
   "metadata": {},
   "outputs": [],
   "source": []
  },
  {
   "cell_type": "code",
   "execution_count": null,
   "metadata": {},
   "outputs": [],
   "source": [
    "query_list = [\"infosys\"]\n",
    "while len(query_list)!=0:\n",
    "  query = query_list.pop(0)\n",
    "  tweets = get_tweets(query)\n",
    "  tweets_data = tweet_data(tweets)\n",
    "  tweets_final = set_DataFrame(tweets_data)\n",
    "  print(query_list)\n",
    "  for index, tweet in tweets_final.iterrows():\n",
    "      user, interactions = get_interactions(tweet)\n",
    "      user_id, user_name = user\n",
    "      tweet_id = tweet[\"id\"]\n",
    "      graph.add_node(user_id)\n",
    "      labels[user_id] = user_name\n",
    "      for interaction in interactions:\n",
    "          int_id, int_name = interaction\n",
    "          graph.add_node(int_id)\n",
    "          labels[int_id] = int_name\n",
    "          graph.add_edge(user_id, int_id)\n",
    "          if tweet[\"followers_count\"]>10000 and int_name not in query_list:\n",
    "            query_list.append(int_name)\n",
    "          "
   ]
  }
 ],
 "metadata": {
  "kernelspec": {
   "display_name": "Python 3",
   "language": "python",
   "name": "python3"
  },
  "language_info": {
   "codemirror_mode": {
    "name": "ipython",
    "version": 3
   },
   "file_extension": ".py",
   "mimetype": "text/x-python",
   "name": "python",
   "nbconvert_exporter": "python",
   "pygments_lexer": "ipython3",
   "version": "3.6.9"
  }
 },
 "nbformat": 4,
 "nbformat_minor": 4
}
