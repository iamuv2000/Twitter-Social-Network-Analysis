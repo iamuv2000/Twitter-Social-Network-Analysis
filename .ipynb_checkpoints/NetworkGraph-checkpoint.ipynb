{
 "cells": [
  {
   "cell_type": "code",
   "execution_count": 3,
   "metadata": {},
   "outputs": [],
   "source": [
    "import tweepy \n",
    "import json\n",
    "import pandas as pd\n",
    "import numpy as np\n",
    "from scipy import stats\n",
    "from operator import itemgetter\n",
    "import re\n",
    "import matplotlib.pyplot as plt\n",
    "import seaborn as sns\n",
    "import networkx as nx\n",
    "graph = nx.DiGraph()\n",
    "\n",
    "\n",
    "\n",
    "import CREDENTIALS\n",
    "import sys\n",
    "sys.path.append(\"./SentimentAnalysis.py\")\n",
    "from SentimentAnalysis import TwitterClient \n",
    "from SentimentAnalysis import TwitterAuthenticator\n",
    "from SentimentAnalysis import TwitterStreamer\n",
    "from SentimentAnalysis import TwitterListener\n",
    "from SentimentAnalysis import TweetAnalyser"
   ]
  },
  {
   "cell_type": "code",
   "execution_count": 4,
   "metadata": {},
   "outputs": [],
   "source": [
    "twitter_client = TwitterClient()\n",
    "tweet_analyser = TweetAnalyser()\n",
    "api = twitter_client.get_twitter_client_api()"
   ]
  },
  {
   "cell_type": "markdown",
   "metadata": {},
   "source": [
    "# ENTER THE DETAILS"
   ]
  },
  {
   "cell_type": "code",
   "execution_count": 38,
   "metadata": {},
   "outputs": [],
   "source": [
    "COMPANY = \"CNN\"\n",
    "NO_OF_TWEETS = 1\n",
    "\n",
    "tweets = api.user_timeline(screen_name=COMPANY, count=NO_OF_TWEETS)\n",
    "\n",
    "#tier 1 twitter accounts\n",
    "tier1 = []\n",
    "#tier 2 twitter accounts\n",
    "tier2 = []\n",
    "\n"
   ]
  },
  {
   "cell_type": "code",
   "execution_count": 39,
   "metadata": {},
   "outputs": [],
   "source": [
    "# print(dir(tweets[0]))"
   ]
  },
  {
   "cell_type": "code",
   "execution_count": null,
   "metadata": {},
   "outputs": [],
   "source": []
  },
  {
   "cell_type": "code",
   "execution_count": 49,
   "metadata": {},
   "outputs": [
    {
     "name": "stdout",
     "output_type": "stream",
     "text": [
      "55\n",
      "CNN\n"
     ]
    }
   ],
   "source": [
    "for tweet in tweets:\n",
    "    print(tweet.retweet_count)\n",
    "#     user = api.get_user(tweet.id)\n",
    "    print(tweet.user.screen_name)"
   ]
  },
  {
   "cell_type": "code",
   "execution_count": 50,
   "metadata": {},
   "outputs": [
    {
     "name": "stdout",
     "output_type": "stream",
     "text": [
      "91\n",
      "brad_bartender\n",
      "Suhaibshuaib180\n",
      "dasugarcane\n",
      "OzairIqbalTarar\n",
      "GAGAPUNK\n",
      "Kwaku_telly\n",
      "mucharordjalil\n",
      "laura_zuki\n",
      "KeiNishikawa3\n",
      "Jeeveshu\n",
      "squishiesmama\n",
      "OdeyIdiku\n",
      "errante_gatto\n",
      "BradleyBreaks\n",
      "EbetsamMariza\n",
      "JennifferBakke\n",
      "Jess_Faigenbaum\n",
      "Beenie8963\n",
      "chipkalis\n",
      "OscarMta12\n",
      "gilman_don\n",
      "rodenottraveled\n",
      "hvnmommy\n",
      "Crabeiest\n",
      "SusanLM03\n",
      "queer_introvert\n",
      "DubbyMane\n",
      "BillEsteem\n",
      "A_Fancy_Friel\n",
      "Deniselovesfam\n",
      "AshleyS14758531\n",
      "lachispa123\n",
      "Ellen61217727\n",
      "Andres15039034\n",
      "HankDHanson2\n",
      "real_farmacist\n",
      "TECHBOY39356651\n",
      "BrookesKrista\n",
      "Jools48\n",
      "Sabbirism004\n",
      "AhmedHakes\n",
      "RMTiede\n",
      "Saturaee\n",
      "Wildraar\n",
      "iamcarlito359i\n",
      "Hass0nahmed\n",
      "petopitopato\n",
      "Aidetectednews\n",
      "tisonlyme143\n",
      "unocorbus\n",
      "ErnestoTrevin13\n",
      "bresla_linda\n",
      "RosaFlores\n",
      "rb09719440\n",
      "friendsrule13\n",
      "blkberrycastle\n",
      "RaoShakeelAhma5\n",
      "kayinoh\n",
      "TheClem\n",
      "oshindows\n",
      "Matt_Stepp817\n",
      "PhotogDina\n",
      "alexandrester\n",
      "MNT406\n",
      "KDWRenoGirl\n",
      "ThomasChait1\n",
      "MadelynObrien\n",
      "sixfo_grp\n",
      "3arabawy\n",
      "Dhobbzberry\n",
      "wuevonacho\n",
      "LifeOnTheBeach7\n",
      "laxmanbaral27\n",
      "bipolaractivity\n",
      "LEISUREGODDESS\n",
      "PRqoSJdyofN1yLj\n",
      "21douggie\n",
      "zckej\n",
      "rye222266\n",
      "lisajclay5691\n",
      "ACCIONPLANETA\n",
      "dontquit23\n",
      "BIGPIPE_\n",
      "ikateufel\n",
      "Whoisjaiden\n",
      "MichaelAngulo5\n",
      "hattieeeeeeeeee\n",
      "unionwill\n",
      "noorf_07\n",
      "ALANDexter2020\n",
      "rakhshinda_dr\n"
     ]
    }
   ],
   "source": [
    "for tweet in tweets:\n",
    "    retweets = api.retweets(id=tweet.id, count=100)\n",
    "    print(len(retweets))\n",
    "    for retweet in retweets:\n",
    "        print(retweet.user.screen_name)"
   ]
  },
  {
   "cell_type": "code",
   "execution_count": null,
   "metadata": {},
   "outputs": [],
   "source": []
  },
  {
   "cell_type": "code",
   "execution_count": null,
   "metadata": {},
   "outputs": [],
   "source": []
  },
  {
   "cell_type": "code",
   "execution_count": null,
   "metadata": {},
   "outputs": [],
   "source": [
    "query_list = [\"infosys\"]\n",
    "while len(query_list)!=0:\n",
    "  query = query_list.pop(0)\n",
    "  tweets = get_tweets(query)\n",
    "  tweets_data = tweet_data(tweets)\n",
    "  tweets_final = set_DataFrame(tweets_data)\n",
    "  print(query_list)\n",
    "  for index, tweet in tweets_final.iterrows():\n",
    "      user, interactions = get_interactions(tweet)\n",
    "      user_id, user_name = user\n",
    "      tweet_id = tweet[\"id\"]\n",
    "      graph.add_node(user_id)\n",
    "      labels[user_id] = user_name\n",
    "      for interaction in interactions:\n",
    "          int_id, int_name = interaction\n",
    "          graph.add_node(int_id)\n",
    "          labels[int_id] = int_name\n",
    "          graph.add_edge(user_id, int_id)\n",
    "          if tweet[\"followers_count\"]>10000 and int_name not in query_list:\n",
    "            query_list.append(int_name)\n",
    "          "
   ]
  }
 ],
 "metadata": {
  "kernelspec": {
   "display_name": "Python 3",
   "language": "python",
   "name": "python3"
  },
  "language_info": {
   "codemirror_mode": {
    "name": "ipython",
    "version": 3
   },
   "file_extension": ".py",
   "mimetype": "text/x-python",
   "name": "python",
   "nbconvert_exporter": "python",
   "pygments_lexer": "ipython3",
   "version": "3.6.9"
  }
 },
 "nbformat": 4,
 "nbformat_minor": 4
}
