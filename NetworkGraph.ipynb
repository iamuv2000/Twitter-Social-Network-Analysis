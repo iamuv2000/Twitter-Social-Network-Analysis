{
 "cells": [
  {
   "cell_type": "code",
   "execution_count": 3,
   "metadata": {},
   "outputs": [],
   "source": [
    "import tweepy \n",
    "import json\n",
    "import pandas as pd\n",
    "import numpy as np\n",
    "from scipy import stats\n",
    "from operator import itemgetter\n",
    "import re\n",
    "import matplotlib.pyplot as plt\n",
    "import seaborn as sns\n",
    "import networkx as nx\n",
    "graph = nx.DiGraph()\n",
    "\n",
    "\n",
    "\n",
    "import CREDENTIALS\n",
    "import sys\n",
    "sys.path.append(\"./SentimentAnalysis.py\")\n",
    "from SentimentAnalysis import TwitterClient \n",
    "from SentimentAnalysis import TwitterAuthenticator\n",
    "from SentimentAnalysis import TwitterStreamer\n",
    "from SentimentAnalysis import TwitterListener\n",
    "from SentimentAnalysis import TweetAnalyser"
   ]
  },
  {
   "cell_type": "code",
   "execution_count": 4,
   "metadata": {},
   "outputs": [],
   "source": [
    "twitter_client = TwitterClient()\n",
    "tweet_analyser = TweetAnalyser()\n",
    "api = twitter_client.get_twitter_client_api()"
   ]
  },
  {
   "cell_type": "markdown",
   "metadata": {},
   "source": [
    "# ENTER THE DETAILS"
   ]
  },
  {
   "cell_type": "code",
   "execution_count": 38,
   "metadata": {},
   "outputs": [],
   "source": [
    "COMPANY = \"CNN\"\n",
    "NO_OF_TWEETS = 1\n",
    "\n",
    "tweets = api.user_timeline(screen_name=COMPANY, count=NO_OF_TWEETS)\n",
    "\n",
    "#tier 1 twitter accounts\n",
    "tier1 = []\n",
    "#tier 2 twitter accounts\n",
    "tier2 = []\n",
    "\n"
   ]
  },
  {
   "cell_type": "code",
   "execution_count": 39,
   "metadata": {},
   "outputs": [],
   "source": [
    "# print(dir(tweets[0]))"
   ]
  },
  {
   "cell_type": "code",
   "execution_count": null,
   "metadata": {},
   "outputs": [],
   "source": []
  },
  {
   "cell_type": "code",
   "execution_count": 49,
   "metadata": {},
   "outputs": [
    {
     "name": "stdout",
     "output_type": "stream",
     "text": [
      "55\n",
      "CNN\n"
     ]
    }
   ],
   "source": [
    "for tweet in tweets:\n",
    "    print(tweet.retweet_count)\n",
    "#     user = api.get_user(tweet.id)\n",
    "    print(tweet.user.screen_name)"
   ]
  },
  {
   "cell_type": "code",
   "execution_count": 55,
   "metadata": {},
   "outputs": [
    {
     "name": "stdout",
     "output_type": "stream",
     "text": [
      "91\n",
      "Marita30706158 2007\n",
      "CatActExpert 1320\n",
      "dcano1 99\n",
      "AcrossButt 51\n",
      "jorgesquivel1 82\n",
      "theitman16 111\n",
      "WorkerGaber_22 22\n",
      "honey70207661 21\n",
      "brad_bartender 302\n",
      "Suhaibshuaib180 28\n",
      "dasugarcane 167\n",
      "OzairIqbalTarar 1023\n",
      "GAGAPUNK 1810\n",
      "Kwaku_telly 379\n",
      "mucharordjalil 252\n",
      "laura_zuki 50\n",
      "KeiNishikawa3 175\n",
      "Jeeveshu 19714\n",
      "squishiesmama 7\n",
      "OdeyIdiku 3528\n",
      "errante_gatto 8\n",
      "BradleyBreaks 2158\n",
      "EbetsamMariza 93\n",
      "JennifferBakke 25\n",
      "Jess_Faigenbaum 346\n",
      "Beenie8963 24\n",
      "chipkalis 93\n",
      "OscarMta12 88\n",
      "gilman_don 93\n",
      "rodenottraveled 111\n",
      "hvnmommy 79\n",
      "Crabeiest 160\n",
      "SusanLM03 1618\n",
      "queer_introvert 19\n",
      "DubbyMane 586\n",
      "BillEsteem 4840\n",
      "A_Fancy_Friel 162\n",
      "Deniselovesfam 26\n",
      "AshleyS14758531 45\n",
      "lachispa123 3399\n",
      "Ellen61217727 1\n",
      "Andres15039034 4\n",
      "HankDHanson2 46\n",
      "real_farmacist 87752\n",
      "TECHBOY39356651 52\n",
      "BrookesKrista 1257\n",
      "Jools48 380\n",
      "Sabbirism004 105\n",
      "AhmedHakes 30300\n",
      "RMTiede 1940\n",
      "Saturaee 132\n",
      "Wildraar 768\n",
      "iamcarlito359i 170\n",
      "Hass0nahmed 894\n",
      "petopitopato 100\n",
      "Aidetectednews 56\n",
      "tisonlyme143 3161\n",
      "unocorbus 2456\n",
      "ErnestoTrevin13 243\n",
      "bresla_linda 5421\n",
      "RosaFlores 17265\n",
      "rb09719440 72\n",
      "friendsrule13 193\n",
      "blkberrycastle 2280\n",
      "RaoShakeelAhma5 65\n",
      "kayinoh 407\n",
      "TheClem 354\n",
      "oshindows 132\n",
      "Matt_Stepp817 27543\n",
      "PhotogDina 379\n",
      "alexandrester 859\n",
      "MNT406 337\n",
      "KDWRenoGirl 3835\n",
      "ThomasChait1 461\n",
      "MadelynObrien 123\n",
      "sixfo_grp 809\n",
      "3arabawy 288186\n",
      "Dhobbzberry 484\n",
      "wuevonacho 1\n",
      "LifeOnTheBeach7 5466\n",
      "laxmanbaral27 83\n",
      "bipolaractivity 496\n",
      "LEISUREGODDESS 3705\n",
      "PRqoSJdyofN1yLj 377\n",
      "21douggie 99\n",
      "zckej 528\n",
      "rye222266 54\n",
      "lisajclay5691 239\n",
      "ACCIONPLANETA 3138\n",
      "dontquit23 499\n",
      "BIGPIPE_ 768\n"
     ]
    }
   ],
   "source": [
    "for tweet in tweets:\n",
    "    retweets = api.retweets(id=tweet.id, count=100)\n",
    "    print(len(retweets))\n",
    "    for retweet in retweets:\n",
    "        print(retweet.user.screen_name, retweet.user.followers_count)\n",
    "#     print(dir(retweets[0].user))"
   ]
  },
  {
   "cell_type": "markdown",
   "metadata": {},
   "source": [
    "['__class__', '__delattr__', '__dict__', '__dir__', '__doc__', '__eq__', '__format__', '__ge__', '__getattribute__', '__getstate__', '__gt__', '__hash__', '__init__', '__init_subclass__', '__le__', '__lt__', '__module__', '__ne__', '__new__', '__reduce__', '__reduce_ex__', '__repr__', '__setattr__', '__sizeof__', '__str__', '__subclasshook__', '__weakref__', '_api', '_json', 'contributors_enabled', 'created_at', 'default_profile', 'default_profile_image', 'description', 'entities', 'favourites_count', 'follow', 'follow_request_sent', 'followers', 'followers_count', 'followers_ids', 'following', 'friends', 'friends_count', 'geo_enabled', 'has_extended_profile', 'id', 'id_str', 'is_translation_enabled', 'is_translator', 'lang', 'listed_count', 'lists', 'lists_memberships', 'lists_subscriptions', 'location', 'name', 'notifications', 'parse', 'parse_list', 'profile_background_color', 'profile_background_image_url', 'profile_background_image_url_https', 'profile_background_tile', 'profile_banner_url', 'profile_image_url', 'profile_image_url_https', 'profile_link_color', 'profile_sidebar_border_color', 'profile_sidebar_fill_color', 'profile_text_color', 'profile_use_background_image', 'protected', 'screen_name', 'statuses_count', 'time_zone', 'timeline', 'translator_type', 'unfollow', 'url', 'utc_offset', 'verified']"
   ]
  },
  {
   "cell_type": "code",
   "execution_count": null,
   "metadata": {},
   "outputs": [],
   "source": []
  },
  {
   "cell_type": "code",
   "execution_count": null,
   "metadata": {},
   "outputs": [],
   "source": [
    "query_list = [\"infosys\"]\n",
    "while len(query_list)!=0:\n",
    "  query = query_list.pop(0)\n",
    "  tweets = get_tweets(query)\n",
    "  tweets_data = tweet_data(tweets)\n",
    "  tweets_final = set_DataFrame(tweets_data)\n",
    "  print(query_list)\n",
    "  for index, tweet in tweets_final.iterrows():\n",
    "      user, interactions = get_interactions(tweet)\n",
    "      user_id, user_name = user\n",
    "      tweet_id = tweet[\"id\"]\n",
    "      graph.add_node(user_id)\n",
    "      labels[user_id] = user_name\n",
    "      for interaction in interactions:\n",
    "          int_id, int_name = interaction\n",
    "          graph.add_node(int_id)\n",
    "          labels[int_id] = int_name\n",
    "          graph.add_edge(user_id, int_id)\n",
    "          if tweet[\"followers_count\"]>10000 and int_name not in query_list:\n",
    "            query_list.append(int_name)\n",
    "          "
   ]
  }
 ],
 "metadata": {
  "kernelspec": {
   "display_name": "Python 3",
   "language": "python",
   "name": "python3"
  },
  "language_info": {
   "codemirror_mode": {
    "name": "ipython",
    "version": 3
   },
   "file_extension": ".py",
   "mimetype": "text/x-python",
   "name": "python",
   "nbconvert_exporter": "python",
   "pygments_lexer": "ipython3",
   "version": "3.6.9"
  }
 },
 "nbformat": 4,
 "nbformat_minor": 4
}
